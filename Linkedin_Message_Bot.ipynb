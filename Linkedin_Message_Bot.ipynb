{
 "cells": [
  {
   "cell_type": "markdown",
   "id": "fifth-touch",
   "metadata": {},
   "source": [
    "## Linkedin Message Bot\n",
    "\n",
    "\n",
    "In this Notebook we will build a messaging bot with Python & Selenium! We will send custom messages to as many of our LinkedIn contacts as we'd like with nearly 0 effort on our end and a 100% automation!"
   ]
  },
  {
   "cell_type": "code",
   "execution_count": 1,
   "id": "vanilla-logging",
   "metadata": {},
   "outputs": [],
   "source": [
    "from selenium import webdriver\n",
    "from selenium.webdriver.common.keys import Keys\n",
    "from selenium.webdriver.support import expected_conditions as EC\n",
    "from selenium.webdriver.common.by import By\n",
    "from selenium.webdriver.support.wait import WebDriverWait\n",
    "import time\n",
    "import random"
   ]
  },
  {
   "cell_type": "markdown",
   "id": "common-pension",
   "metadata": {},
   "source": [
    "<b>Send Messages</b>\n",
    "<br>\n",
    "1. Access multiple pages of contacts, choose how many with \"n_pages\"\n",
    "<br>\n",
    "2. Select all the \"Message\" Buttons\n",
    "<br>\n",
    "3. Generate a custom message with a personal greeting & first name of contact\n",
    "<br>\n",
    "4. Send these messages to as many contacts as you'd like!\n"
   ]
  },
  {
   "cell_type": "code",
   "execution_count": 3,
   "id": "surprised-protein",
   "metadata": {},
   "outputs": [],
   "source": [
    "driver = webdriver.Chrome()\n",
    "driver.get(\"https://linkedin.com\")\n",
    "\n",
    "time.sleep(2)\n",
    "\n",
    "username = driver.find_element(By.XPATH, \"//input[@name='session_key']\")\n",
    "password = driver.find_element(By.XPATH, \"//input[@name='session_password']\")\n",
    "\n",
    "username.send_keys(\"email\")\n",
    "password.send_keys(\"password\")\n",
    "\n",
    "time.sleep(2)\n",
    "\n",
    "submit = driver.find_element(By.XPATH,\"//button[@type='submit']\").click()\n",
    "time.sleep(2)\n",
    "\n",
    "n_pages = 2\n",
    "\n",
    "for n in range(1, n_pages + 1):\n",
    "\n",
    "    driver.get(f\"https://www.linkedin.com/search/results/people/?network=%5B%22F%22%5D&origin=FACETED_SEARCH&page={n}&sid=kaY\")\n",
    "\n",
    "    all_buttons = driver.find_elements(By.TAG_NAME, \"button\")\n",
    "    message_buttons = [btn for btn in all_buttons if btn.text == \"Message\"]\n",
    "\n",
    "    for i in range(6, 7):\n",
    "        #click on \"Message\" button\n",
    "        driver.execute_script(\"arguments[0].click();\", message_buttons[i])\n",
    "        time.sleep(2)\n",
    "\n",
    "        #activate main div\n",
    "        main_div = driver.find_element(By.XPATH, \"//div[starts-with(@class, 'msg-form__msg-content-container')]\")\n",
    "        driver.execute_script(\"arguments[0].click();\", main_div)\n",
    "\n",
    "        #type message\n",
    "        paragraphs = driver.find_elements(By.TAG_NAME, \"p\")\n",
    "        \n",
    "        all_span = driver.find_elements(By.TAG_NAME, \"span\")\n",
    "        all_span = [s for s in all_span if s.get_attribute(\"aria-hidden\") == \"true\"]\n",
    "\n",
    "        idx = [*range(3,23,2)]\n",
    "        greetings = [\"Hello\", \"Hi\", \"Hey\", \"Ahoy\", \"Yo yo\", \"Sup\"]\n",
    "        all_names = []\n",
    "        \n",
    "        for j in idx:\n",
    "            name = all_span[j].text.split(\" \")[0]\n",
    "            all_names.append(name)\n",
    "             \n",
    "        greetings_idx = random.randint(0, len(greetings)-1)\n",
    "        message = greetings[greetings_idx] + \" \" + all_names[i] + \", Sorry, I didn't mean to bother you, I'm just building a Linkedin Web Scraper Bot and testing its' capabilities... My apologies!:) This is not Arqam, this message is automated\"\n",
    "        \n",
    "        paragraphs[-5].send_keys(message)\n",
    "        time.sleep(2)\n",
    "\n",
    "        #send message\n",
    "#         submit = driver.find_element(By.XPATH,\"//button[@type='submit']\").click()\n",
    "#         time.sleep(2)\n",
    "\n",
    "        #close div\n",
    "        close_button = driver.find_element(By.XPATH, \"//button[starts-with(@class,'msg-overlay-bubble-header__control')]\")\n",
    "        driver.execute_script(\"arguments[0].click();\", close_button)\n",
    "        time.sleep(2)"
   ]
  }
 ],
 "metadata": {
  "kernelspec": {
   "display_name": "Python 3 (ipykernel)",
   "language": "python",
   "name": "python3"
  },
  "language_info": {
   "codemirror_mode": {
    "name": "ipython",
    "version": 3
   },
   "file_extension": ".py",
   "mimetype": "text/x-python",
   "name": "python",
   "nbconvert_exporter": "python",
   "pygments_lexer": "ipython3",
   "version": "3.9.7"
  }
 },
 "nbformat": 4,
 "nbformat_minor": 5
}
